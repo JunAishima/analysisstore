{
 "cells": [
  {
   "cell_type": "code",
   "execution_count": 1,
   "metadata": {
    "collapsed": true
   },
   "outputs": [],
   "source": [
    "from analysisstore.client.commands import AnalysisClient\n",
    "import time\n",
    "import uuid"
   ]
  },
  {
   "cell_type": "code",
   "execution_count": 2,
   "metadata": {
    "collapsed": false
   },
   "outputs": [
    {
     "data": {
      "text/plain": [
       "True"
      ]
     },
     "execution_count": 2,
     "metadata": {},
     "output_type": "execute_result"
    }
   ],
   "source": [
    "conf = dict(host='localhost', port=7601)\n",
    "conn = AnalysisClient(conf)\n",
    "conn.connection_status()"
   ]
  },
  {
   "cell_type": "code",
   "execution_count": 3,
   "metadata": {
    "collapsed": false
   },
   "outputs": [],
   "source": [
    "ahdr = conn.insert_analysis_header(time=time.time(), uid=str(uuid.uuid4()),\n",
    "                                   provenance={'code_v': 0.1})"
   ]
  },
  {
   "cell_type": "code",
   "execution_count": 4,
   "metadata": {
    "collapsed": false
   },
   "outputs": [],
   "source": [
    "drefhdr = conn.insert_data_reference_header(analysis_header=ahdr, uid=str(uuid.uuid4()),\n",
    "                                            time=time.time(), \n",
    "                                              data_keys={'diffr1': {'source': 'exp1'}})"
   ]
  },
  {
   "cell_type": "code",
   "execution_count": 5,
   "metadata": {
    "collapsed": false
   },
   "outputs": [],
   "source": [
    "dref = conn.insert_data_reference(data_header=drefhdr, uid=str(uuid.uuid4()),\n",
    "                                  time=time.time(), data={'diffr1': 14.5},\n",
    "                                  timestamps={'diffr1':time.time()})"
   ]
  },
  {
   "cell_type": "code",
   "execution_count": 9,
   "metadata": {
    "collapsed": false,
    "scrolled": false
   },
   "outputs": [
    {
     "data": {
      "text/plain": [
       "100"
      ]
     },
     "execution_count": 9,
     "metadata": {},
     "output_type": "execute_result"
    }
   ],
   "source": [
    "a = []\n",
    "for i in range(100):\n",
    "    a.append(dict(data_header=drefhdr, uid=str(uuid.uuid4()), \n",
    "                  time=time.time(), data={'diffr1': 14.5}, \n",
    "                  timestamps={'diffr1':time.time()}))\n",
    "len(a)"
   ]
  },
  {
   "cell_type": "code",
   "execution_count": 10,
   "metadata": {
    "collapsed": false
   },
   "outputs": [
    {
     "data": {
      "text/plain": [
       "['eaf37e26-6243-4c83-8c5c-75d8d834bbf4',\n",
       " '13a41044-adf5-4bc5-9ee8-19710948b1b8',\n",
       " '93cd39b1-9191-4b46-abeb-0f4db637240c',\n",
       " 'fc0a0b1b-673f-4148-9e5d-75823217bb53',\n",
       " '7b362941-1771-4020-a72e-841ffe3b7773',\n",
       " 'ca3e0c26-2d1c-40b3-94ef-5d87260a89ae',\n",
       " 'e3ca78b6-2731-497f-932d-f15a24fefa86',\n",
       " '88f4d5f1-eb76-4204-9cd6-500776290bc3',\n",
       " 'd48225d6-b59a-44e1-998c-58b8eb839915',\n",
       " '7154e91d-262a-42ad-b168-086d21fd98c5',\n",
       " 'b3a06942-0210-4d41-8233-1dbec998b6e5',\n",
       " '7c34ac4d-e648-4efb-8f0a-3f08bf55ae5a',\n",
       " 'f501480c-c4e2-4e58-b51e-37fb8767724d',\n",
       " 'd7e42aa1-5c27-48a0-96d6-e6527c8d86d7',\n",
       " '95da350d-34c0-486e-b3cd-93dc3b42ae7e',\n",
       " 'aa9c8be2-250e-453b-9930-f6ea455dc111',\n",
       " '1774b950-6231-4f70-9cea-f45c49b36bd3',\n",
       " '771b39b4-47eb-4d18-8b94-b21395300039',\n",
       " '6b58febc-a777-4bcd-8ddc-38248319a7d6',\n",
       " '7cf30770-1064-40d8-a468-8059ce0c90fd',\n",
       " 'f36f973f-0824-4d63-91bb-7163796fddff',\n",
       " '7d51cef6-5da3-41a0-81cd-753f2cf7112b',\n",
       " '3c227b53-baf6-4b03-a1fa-cfecb9ddecea',\n",
       " '32a606c7-b000-4bcd-bc27-fdc0bce3a6e5',\n",
       " '3c45d230-b502-444c-a914-284c8f4322d6',\n",
       " 'a20a8dc2-8a6e-4486-86ef-7f70fb03d56a',\n",
       " '2dad8b3f-bf00-4339-9b65-1f76e4edbb35',\n",
       " '0261aee9-7a18-4326-b85c-c6f04606e7e0',\n",
       " '2a1b91aa-bcec-472a-8938-7632130acc1b',\n",
       " '98cb3d6d-e881-4dde-800e-e8ad28f2a7dc',\n",
       " 'ad3ec5c5-c9ac-4ad6-8972-7a436f339647',\n",
       " '1bd154a4-dd4c-489d-897a-d3a170462d3a',\n",
       " 'b76bf031-72b7-40d2-a570-9482e2fae7d9',\n",
       " '37ea300c-1a40-4206-82fc-4c49f0d6763e',\n",
       " '0855a0f2-1d87-412a-bbf7-971465c87564',\n",
       " 'fbbda602-8494-456a-8310-5440892f5c9d',\n",
       " 'd92cf0f9-7273-4ef5-b6f5-422a0374d0d4',\n",
       " 'ec301248-b88a-4c36-83fa-14b0e8a4ca6f',\n",
       " '8d4ae5f7-2d61-40b7-aa4f-adfd7afa138b',\n",
       " '055e523d-4a40-4032-a722-ede9f53c06b2',\n",
       " '89138abe-f9c8-4824-b9a9-df029d3f0703',\n",
       " 'aa792e55-b395-4a83-b4ed-31710fad71da',\n",
       " 'f9043fa7-b7a2-4a4d-bffe-86db9b699d4f',\n",
       " 'd2dfc4cf-687a-49ba-80e4-87c3767dcc70',\n",
       " '2a0880f1-7b97-4384-b321-03917c5d70e8',\n",
       " 'd620f01b-c74b-4b83-b79d-4ac25f0ff731',\n",
       " '284eb6ee-9640-4569-a97a-e8b72ca05c18',\n",
       " 'a5c91b7d-acd9-4dfd-8d04-d720d9d7ad3c',\n",
       " 'ae253a63-12bf-4b7c-8f32-d4749eab3d73',\n",
       " 'bb5ba075-8987-4870-b014-1581232b1c67',\n",
       " '1f08458b-2ed4-4f0c-9edd-4c18157369f0',\n",
       " '3b2101db-3fcd-487b-bf85-6d9ebc98aa30',\n",
       " '21faadce-79d6-4205-b71a-14ac0f3889ba',\n",
       " '8e7c8de9-8d2a-4498-87a9-e28ba47a99c2',\n",
       " '4138dc97-3ea9-4097-ab23-17592d7bcd20',\n",
       " '2dadc367-61f5-476d-b79c-cdf765325489',\n",
       " 'aa6f6198-e9fe-46bd-90ba-d8e6b7f58225',\n",
       " 'a928fbfc-c190-42bb-a144-97891f5c72d4',\n",
       " 'cb1c27db-44b9-4c37-9222-8c157a4edf0c',\n",
       " '877c7ce4-a055-48a9-ad34-6e7d0347b7d7',\n",
       " 'f988cb1e-76d9-46e2-a7fd-4718cc6d024f',\n",
       " 'dcfafc71-5a10-4b27-aeaa-188bd9bd2b26',\n",
       " '53b09847-6416-439c-a721-2b9972893737',\n",
       " 'b3b6c483-41e2-4ee6-9a54-a3f551ed9f59',\n",
       " '9f6e9668-2d3a-4fc8-815a-4379670ce06e',\n",
       " '666f6f17-ee48-4dec-915f-4d2e35977613',\n",
       " '35135959-f65f-44bd-bfd7-cae6321062d4',\n",
       " '3f492fc9-0c5e-4cc4-907a-1564b94591e0',\n",
       " '2cc9bf71-2074-4e95-93dc-0dd820e2828e',\n",
       " 'cec640ce-f0d4-47af-bfbb-03d5d8cd183c',\n",
       " '56218794-5b7e-4741-b061-2af1d38b9296',\n",
       " '51e375fc-03dc-4f85-91f1-60fc1fbb4467',\n",
       " '9a3b09a0-f202-4f56-b42a-f2d610b9e790',\n",
       " '301b9802-e21a-484e-88ed-97a345d8e10c',\n",
       " 'bad50d8b-b40f-418a-8445-4a39b60c3dae',\n",
       " '596371f1-fe88-4bde-90e6-03b59beabbee',\n",
       " '2d3a1124-ad57-4836-87c7-d67a9b3e8f67',\n",
       " '9dc32f2c-0021-4386-85ac-e81e95ee6152',\n",
       " '3b49a60c-46a8-4cd4-92d2-7a90a1b07c98',\n",
       " '4afc0b61-2a64-4996-84f7-486e88f3363c',\n",
       " '9a424f8e-ce7c-46fd-9b82-28cd45af03b3',\n",
       " '43f6b3a3-7572-4a08-b85f-41c5f5c1fd93',\n",
       " 'b9aef3f0-87db-4c56-8584-8dd6296c5bd5',\n",
       " 'f2d12561-082d-4ac8-b02a-7478133b875d',\n",
       " '70f29748-1b64-4c88-b49b-af5f1ebc01ea',\n",
       " '6a576c3f-9444-486e-b230-72dc6c736237',\n",
       " '297373cb-b6fa-4b5c-aeb4-16c6259c5a00',\n",
       " 'e1e39975-b1e2-4fcc-9964-dd05afddc2ef',\n",
       " 'a6138e65-979e-4aef-aeef-d540dea3927d',\n",
       " 'fbb36790-6b25-43d7-b70a-6c4282ff0dd5',\n",
       " '675b08dd-8c2d-43f0-8c86-47cf0b466dbc',\n",
       " 'a2d7fd6d-ea0b-44e3-ad80-a53f429f391c',\n",
       " 'bf41425f-867b-49b3-bc16-24adfa3b1476',\n",
       " 'cfad03b3-25ce-4c27-96b5-969b531145f3',\n",
       " '9756b06b-2b68-4ada-97b2-02e8fad1cfad',\n",
       " 'a7dc85f2-cd7b-45c8-988b-40b06052c0b2',\n",
       " 'bdee2019-9293-4ea9-8a11-b20da06ce8b2',\n",
       " 'ecdaaa57-ae98-4e5e-bb5b-82e4e16f99c8',\n",
       " 'e2220114-12c2-457b-bc7b-4af7e5525890',\n",
       " '76035d47-393a-4373-9418-936f7a808367']"
      ]
     },
     "execution_count": 10,
     "metadata": {},
     "output_type": "execute_result"
    }
   ],
   "source": [
    "conn.bulk_data_reference_insert(data_header=drefhdr, data_references=a)"
   ]
  },
  {
   "cell_type": "code",
   "execution_count": 8,
   "metadata": {
    "collapsed": false
   },
   "outputs": [],
   "source": [
    "atail = conn.insert_analysis_tail(analysis_header=ahdr, uid=str(uuid.uuid4()), time=time.time(),\n",
    "                                 exit_status='success')"
   ]
  },
  {
   "cell_type": "code",
   "execution_count": 11,
   "metadata": {
    "collapsed": false
   },
   "outputs": [],
   "source": [
    "# Find tail given header\n",
    "q = {'analysis_header': ahdr}\n",
    "rest = conn.find_analysis_tail(**q)\n",
    "assert atail == rest[0]['uid']"
   ]
  },
  {
   "cell_type": "code",
   "execution_count": 12,
   "metadata": {
    "collapsed": false
   },
   "outputs": [
    {
     "data": {
      "text/plain": [
       "[{'analysis_header': '9865d106-a07f-48ab-bfc8-cab7eff3bb84',\n",
       "  'data_keys': {'diffr1': {'source': 'exp1'}},\n",
       "  'time': 1470677616.897806,\n",
       "  'uid': '7f9ce9a6-95df-4e00-bbbc-2f15138ed933'}]"
      ]
     },
     "execution_count": 12,
     "metadata": {},
     "output_type": "execute_result"
    }
   ],
   "source": [
    "conn.find_data_reference_header(uid=drefhdr)"
   ]
  }
 ],
 "metadata": {
  "kernelspec": {
   "display_name": "Python 3",
   "language": "python",
   "name": "python3"
  },
  "language_info": {
   "codemirror_mode": {
    "name": "ipython",
    "version": 3
   },
   "file_extension": ".py",
   "mimetype": "text/x-python",
   "name": "python",
   "nbconvert_exporter": "python",
   "pygments_lexer": "ipython3",
   "version": "3.5.2"
  }
 },
 "nbformat": 4,
 "nbformat_minor": 0
}
